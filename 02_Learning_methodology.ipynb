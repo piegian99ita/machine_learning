{
  "nbformat": 4,
  "nbformat_minor": 0,
  "metadata": {
    "colab": {
      "provenance": [],
      "collapsed_sections": [
        "s1sb7TkJ2uf-",
        "Ifk8rMh37WT4"
      ],
      "include_colab_link": true
    },
    "kernelspec": {
      "name": "python3",
      "display_name": "Python 3"
    },
    "language_info": {
      "name": "python"
    }
  },
  "cells": [
    {
      "cell_type": "markdown",
      "metadata": {
        "id": "view-in-github",
        "colab_type": "text"
      },
      "source": [
        "<a href=\"https://colab.research.google.com/github/piegian99ita/machine_learning/blob/main/02_Learning_methodology.ipynb\" target=\"_parent\"><img src=\"https://colab.research.google.com/assets/colab-badge.svg\" alt=\"Open In Colab\"/></a>"
      ]
    },
    {
      "cell_type": "markdown",
      "source": [
        "#Learning Methodology\n",
        "\n",
        "### Content\n",
        "In this lab we will understand the importance of data management. We will leverage a Linear Classifier and analyze how its behaviour changes as a function of the data it is fed.\n",
        "\n",
        "### Data\n",
        "We will use the IRIS Dataset, whose detailed description you can find [here](https://archive.ics.uci.edu/ml/datasets/iris). The underlying task is to perform correct classification of flowers. \n",
        "\n",
        "The **classes** of this dataset are:  \n",
        "1. Iris Setosa;\n",
        "2. Iris Versicolour;\n",
        "3. Iris Virginica;\n",
        "\n",
        "Each sample in this dataset is represented by the following **attributes**:\n",
        "1. sepal length;\n",
        "2. sepal width;\n",
        "3. petal length;\n",
        "4. petal width;\n",
        "\n",
        "all of which are expressed in $[cm]$.\n",
        "\n",
        "\n",
        "Given this information, we can formally say:\n",
        "- $D = \\{(\\pmb{x_i}, y_i)| i = 1, ... , N\\}$  \n",
        "- $\\pmb{x_i} \\in \\mathbb{R}^4, \\forall i$\n",
        "- $y_i \\in \\mathbb{N}; y_i \\in \\{0, 1, 2\\}$"
      ],
      "metadata": {
        "id": "BnZsujxJlkd7"
      }
    },
    {
      "cell_type": "code",
      "source": [
        "# this line is needed to display plots in this notebook\n",
        "%matplotlib inline"
      ],
      "metadata": {
        "id": "C6gOqgX1LyLY"
      },
      "execution_count": null,
      "outputs": []
    },
    {
      "cell_type": "code",
      "source": [
        "import matplotlib.pyplot as plt\n",
        "import warnings \n",
        "warnings.filterwarnings(\"ignore\")\n",
        "\n",
        "# let's download the dataset and store it in the \"iris_object\" variable\n",
        "from sklearn.datasets import load_iris\n",
        "iris_object = load_iris(as_frame=True)\n",
        "print(\"iris_object contains the following fields:\", dir(iris_object))"
      ],
      "metadata": {
        "colab": {
          "base_uri": "https://localhost:8080/"
        },
        "id": "Yvl08rBw_yBv",
        "outputId": "d8c6f049-aba6-4917-cd68-639b8e6cb101"
      },
      "execution_count": null,
      "outputs": [
        {
          "output_type": "stream",
          "name": "stdout",
          "text": [
            "iris_object contains the following fields: ['DESCR', 'data', 'data_module', 'feature_names', 'filename', 'frame', 'target', 'target_names']\n"
          ]
        }
      ]
    },
    {
      "cell_type": "markdown",
      "source": [
        "##Inspecting the IRIS Dataset  \n",
        "From the above list of attributes, we are interested in the following:  \n",
        "1. *data*: contains the $\\pmb{x_i}$ samples arranged in a matrix $X \\in \\mathbb{R}^{N \\times 4}$;\n",
        "2. *target*: contains the labels $y_i$ arranged in a vector $\\pmb{y} \\in \\mathbb{R}^{N}$;  \n",
        "3. *feature_names*: names of the columns of $X$;\n",
        "4. *target_names*: string mappings for the labels in $\\pmb{y}$; $\\{0,1, 2\\}$ are replaced with $\\{setosa, versicolour, virginica\\}$, respectively."
      ],
      "metadata": {
        "id": "osxWUUEhB7Ol"
      }
    },
    {
      "cell_type": "code",
      "source": [
        "# let's inspect these attributes\n",
        "def print_separator(text, n=25): \n",
        "  print(\"\\n\", \"=\"*n, text, \"=\"*n)\n",
        "\n",
        "print_separator(\"INPUT_SPACE_INFORMATION\")\n",
        "X = iris_object.data                                # samples are stored in the data field\n",
        "print(\"X (matrix of samples) has shape:\", X.shape)  # 150 rows (samples), each with 4 attributes (columns)\n",
        "\n",
        "feature_names = iris_object.feature_names\n",
        "print(\"Each sample in X has the following attributes:\", feature_names)\n",
        "\n",
        "print_separator(\"LABEL_SPACE_INFORMATION\")\n",
        "y = iris_object.target                             # labels are stored in the target field\n",
        "label_set = set(y)\n",
        "print(\"y (vector of labels) has shape:\", y.shape)  # 150 scalars, the i-th element is the label of the i-th element in X\n",
        "print(\"the unique elements appearing in y are:\", label_set)\n",
        "\n",
        "# target_names contains the strings associated with the labels\n",
        "target_names = iris_object.target_names\n",
        "for label, label_name in zip(label_set, target_names):\n",
        "  print(f\"Samples with label {label} are {label_name}.\")"
      ],
      "metadata": {
        "colab": {
          "base_uri": "https://localhost:8080/"
        },
        "id": "liR_L8t5Deel",
        "outputId": "96558261-1c9b-47a8-efc5-32fe10190035"
      },
      "execution_count": null,
      "outputs": [
        {
          "output_type": "stream",
          "name": "stdout",
          "text": [
            "\n",
            " ========================= INPUT_SPACE_INFORMATION =========================\n",
            "X (matrix of samples) has shape: (150, 4)\n",
            "Each sample in X has the following attributes: ['sepal length (cm)', 'sepal width (cm)', 'petal length (cm)', 'petal width (cm)']\n",
            "\n",
            " ========================= LABEL_SPACE_INFORMATION =========================\n",
            "y (vector of labels) has shape: (150,)\n",
            "the unique elements appearing in y are: {0, 1, 2}\n",
            "Samples with label 0 are setosa.\n",
            "Samples with label 1 are versicolor.\n",
            "Samples with label 2 are virginica.\n"
          ]
        }
      ]
    },
    {
      "cell_type": "code",
      "source": [
        "# a nice tabular visualization is provided by the Pandas library\n",
        "# (for those interested: https://pandas.pydata.org/docs/)\n",
        "print(\"First 5 elements of the dataset\")\n",
        "X.head(n=5)"
      ],
      "metadata": {
        "colab": {
          "base_uri": "https://localhost:8080/",
          "height": 224
        },
        "id": "9f7jCpEXG7vb",
        "outputId": "2271db43-6729-435f-ea22-d968665e0ffb"
      },
      "execution_count": null,
      "outputs": [
        {
          "output_type": "stream",
          "name": "stdout",
          "text": [
            "First 5 elements of the dataset\n"
          ]
        },
        {
          "output_type": "execute_result",
          "data": {
            "text/plain": [
              "   sepal length (cm)  sepal width (cm)  petal length (cm)  petal width (cm)\n",
              "0                5.1               3.5                1.4               0.2\n",
              "1                4.9               3.0                1.4               0.2\n",
              "2                4.7               3.2                1.3               0.2\n",
              "3                4.6               3.1                1.5               0.2\n",
              "4                5.0               3.6                1.4               0.2"
            ],
            "text/html": [
              "\n",
              "  <div id=\"df-5bee6284-2be4-4cc1-b73d-78c8c9ee4325\">\n",
              "    <div class=\"colab-df-container\">\n",
              "      <div>\n",
              "<style scoped>\n",
              "    .dataframe tbody tr th:only-of-type {\n",
              "        vertical-align: middle;\n",
              "    }\n",
              "\n",
              "    .dataframe tbody tr th {\n",
              "        vertical-align: top;\n",
              "    }\n",
              "\n",
              "    .dataframe thead th {\n",
              "        text-align: right;\n",
              "    }\n",
              "</style>\n",
              "<table border=\"1\" class=\"dataframe\">\n",
              "  <thead>\n",
              "    <tr style=\"text-align: right;\">\n",
              "      <th></th>\n",
              "      <th>sepal length (cm)</th>\n",
              "      <th>sepal width (cm)</th>\n",
              "      <th>petal length (cm)</th>\n",
              "      <th>petal width (cm)</th>\n",
              "    </tr>\n",
              "  </thead>\n",
              "  <tbody>\n",
              "    <tr>\n",
              "      <th>0</th>\n",
              "      <td>5.1</td>\n",
              "      <td>3.5</td>\n",
              "      <td>1.4</td>\n",
              "      <td>0.2</td>\n",
              "    </tr>\n",
              "    <tr>\n",
              "      <th>1</th>\n",
              "      <td>4.9</td>\n",
              "      <td>3.0</td>\n",
              "      <td>1.4</td>\n",
              "      <td>0.2</td>\n",
              "    </tr>\n",
              "    <tr>\n",
              "      <th>2</th>\n",
              "      <td>4.7</td>\n",
              "      <td>3.2</td>\n",
              "      <td>1.3</td>\n",
              "      <td>0.2</td>\n",
              "    </tr>\n",
              "    <tr>\n",
              "      <th>3</th>\n",
              "      <td>4.6</td>\n",
              "      <td>3.1</td>\n",
              "      <td>1.5</td>\n",
              "      <td>0.2</td>\n",
              "    </tr>\n",
              "    <tr>\n",
              "      <th>4</th>\n",
              "      <td>5.0</td>\n",
              "      <td>3.6</td>\n",
              "      <td>1.4</td>\n",
              "      <td>0.2</td>\n",
              "    </tr>\n",
              "  </tbody>\n",
              "</table>\n",
              "</div>\n",
              "      <button class=\"colab-df-convert\" onclick=\"convertToInteractive('df-5bee6284-2be4-4cc1-b73d-78c8c9ee4325')\"\n",
              "              title=\"Convert this dataframe to an interactive table.\"\n",
              "              style=\"display:none;\">\n",
              "        \n",
              "  <svg xmlns=\"http://www.w3.org/2000/svg\" height=\"24px\"viewBox=\"0 0 24 24\"\n",
              "       width=\"24px\">\n",
              "    <path d=\"M0 0h24v24H0V0z\" fill=\"none\"/>\n",
              "    <path d=\"M18.56 5.44l.94 2.06.94-2.06 2.06-.94-2.06-.94-.94-2.06-.94 2.06-2.06.94zm-11 1L8.5 8.5l.94-2.06 2.06-.94-2.06-.94L8.5 2.5l-.94 2.06-2.06.94zm10 10l.94 2.06.94-2.06 2.06-.94-2.06-.94-.94-2.06-.94 2.06-2.06.94z\"/><path d=\"M17.41 7.96l-1.37-1.37c-.4-.4-.92-.59-1.43-.59-.52 0-1.04.2-1.43.59L10.3 9.45l-7.72 7.72c-.78.78-.78 2.05 0 2.83L4 21.41c.39.39.9.59 1.41.59.51 0 1.02-.2 1.41-.59l7.78-7.78 2.81-2.81c.8-.78.8-2.07 0-2.86zM5.41 20L4 18.59l7.72-7.72 1.47 1.35L5.41 20z\"/>\n",
              "  </svg>\n",
              "      </button>\n",
              "      \n",
              "  <style>\n",
              "    .colab-df-container {\n",
              "      display:flex;\n",
              "      flex-wrap:wrap;\n",
              "      gap: 12px;\n",
              "    }\n",
              "\n",
              "    .colab-df-convert {\n",
              "      background-color: #E8F0FE;\n",
              "      border: none;\n",
              "      border-radius: 50%;\n",
              "      cursor: pointer;\n",
              "      display: none;\n",
              "      fill: #1967D2;\n",
              "      height: 32px;\n",
              "      padding: 0 0 0 0;\n",
              "      width: 32px;\n",
              "    }\n",
              "\n",
              "    .colab-df-convert:hover {\n",
              "      background-color: #E2EBFA;\n",
              "      box-shadow: 0px 1px 2px rgba(60, 64, 67, 0.3), 0px 1px 3px 1px rgba(60, 64, 67, 0.15);\n",
              "      fill: #174EA6;\n",
              "    }\n",
              "\n",
              "    [theme=dark] .colab-df-convert {\n",
              "      background-color: #3B4455;\n",
              "      fill: #D2E3FC;\n",
              "    }\n",
              "\n",
              "    [theme=dark] .colab-df-convert:hover {\n",
              "      background-color: #434B5C;\n",
              "      box-shadow: 0px 1px 3px 1px rgba(0, 0, 0, 0.15);\n",
              "      filter: drop-shadow(0px 1px 2px rgba(0, 0, 0, 0.3));\n",
              "      fill: #FFFFFF;\n",
              "    }\n",
              "  </style>\n",
              "\n",
              "      <script>\n",
              "        const buttonEl =\n",
              "          document.querySelector('#df-5bee6284-2be4-4cc1-b73d-78c8c9ee4325 button.colab-df-convert');\n",
              "        buttonEl.style.display =\n",
              "          google.colab.kernel.accessAllowed ? 'block' : 'none';\n",
              "\n",
              "        async function convertToInteractive(key) {\n",
              "          const element = document.querySelector('#df-5bee6284-2be4-4cc1-b73d-78c8c9ee4325');\n",
              "          const dataTable =\n",
              "            await google.colab.kernel.invokeFunction('convertToInteractive',\n",
              "                                                     [key], {});\n",
              "          if (!dataTable) return;\n",
              "\n",
              "          const docLinkHtml = 'Like what you see? Visit the ' +\n",
              "            '<a target=\"_blank\" href=https://colab.research.google.com/notebooks/data_table.ipynb>data table notebook</a>'\n",
              "            + ' to learn more about interactive tables.';\n",
              "          element.innerHTML = '';\n",
              "          dataTable['output_type'] = 'display_data';\n",
              "          await google.colab.output.renderOutput(dataTable, element);\n",
              "          const docLink = document.createElement('div');\n",
              "          docLink.innerHTML = docLinkHtml;\n",
              "          element.appendChild(docLink);\n",
              "        }\n",
              "      </script>\n",
              "    </div>\n",
              "  </div>\n",
              "  "
            ]
          },
          "metadata": {},
          "execution_count": 31
        }
      ]
    },
    {
      "cell_type": "markdown",
      "source": [
        "## Exercise 1\n",
        "\n",
        "You are required to define a function named **train_test_split**, which takes as input $X$, $\\pmb{y}$ and a *nfolds* integer, returning 4 things:  \n",
        "1. *X_train*: samples in the training set;\n",
        "2. *y_train*: labels of the samples in the training set;\n",
        "3. *X_test*: samples in the test set;\n",
        "4. *y_test*: labels of the samples in the test set.\n",
        "\n",
        "The *nfolds* argument defines in how many partitions (folds) should the dataset be divided. If $nfolds = 5$, then 5 folds with 30 samples each must be created; 4 of them should be merged to comprise the training set (X_train, y_train), whilst the remaining one will be (X_test, y_test).\n",
        "\n",
        "The function should not be deterministic: two different executions of **train_test_split** should provide different items in the returned sets. For simplicity, you may assume $N$ will always be divisible by $nfolds$."
      ],
      "metadata": {
        "id": "d-T9hnaXH0MI"
      }
    },
    {
      "cell_type": "code",
      "source": [
        "import numpy as np\n",
        "from numpy.random import default_rng\n",
        "rng = default_rng()  # random number generator\n",
        "\n",
        "# HINT: NumPy comes with a suite of utilities for functionalities related to\n",
        "# random numbers. For this task, I suggest the usage of np.random.choice, which\n",
        "# returns a random subset of elements within an array or an upper bound.\n",
        "# Check it out here! https://numpy.org/doc/stable/reference/random/generated/numpy.random.Generator.choice.html#numpy.random.Generator.choice \n",
        "\n",
        "# Example usage:\n",
        "# - N = # number_of_samples\n",
        "# - random_index = rng.choice(N)  # returns 1 random item from 0 to N\n",
        "# - random_indices = rng.choice(N, size=(k))  # returns k random items from 0 to N\n",
        "# NOTE: caution with replacements!  \n",
        "\n",
        "# HINT2: a good move would be to divide the dataset in folds. \n",
        "\n",
        "# NOTE2: both X and y are Pandas objects returned by load_iris. Convert them\n",
        "# to NumPy arrays with:\n",
        "# - Xnp = X.to_numpy()\n",
        "# - ynp = y.to_numpy()\n",
        "\n",
        "\n",
        "# the following is a utility function provided to you; given a list of tuples as\n",
        "# [(X_fold1, y_fold1), ..., (X_foldk, y_foldk)] it merges samples and labels\n",
        "# into a unique (X_train, y_train).\n",
        "def merge_folds(folds):\n",
        "  return np.concatenate([X for (X, y) in folds], axis=0), \\\n",
        "  np.concatenate([y for (X, y) in folds], axis=0)\n",
        "\n",
        "\n",
        "def train_test_split(X, y, folds=5):\n",
        "  \"\"\"\n",
        "    Functionality:\n",
        "      Splits the training data :param X: and :param y: into a training set\n",
        "      (X_train and y_train) and a test set (X_test and y_test).  \n",
        "      The number of items in the sets is determined by the :param folds:,\n",
        "      i.e. N/folds samples go in the test set while the rest shall \n",
        "      be put in the train set.  \n",
        "\n",
        "\n",
        "    Params:\n",
        "      :param X: sampleset of shape (N, dim) (in our case (N,4))\n",
        "      :param y: label set of shape (N,)\n",
        "      :param folds: integer value\n",
        "    \n",
        "    \n",
        "    Usage:  \n",
        "      X_train, y_train, X_test, y_test = train_test_split(X, y, folds)\n",
        "  \"\"\"\n",
        "  # MODIFY THE BODY OF THIS FUNCTION TO GRAB\n",
        "  # X_train, y_train, X_test, y_test\n",
        "  pass"
      ],
      "metadata": {
        "id": "_1bu3qDqJEtG"
      },
      "execution_count": null,
      "outputs": []
    },
    {
      "cell_type": "markdown",
      "source": [
        "##Exercise 1, Proposed Solution\n",
        "\n",
        "NB: This is one of MANY possible solutions. Do absolutely NOT get discouraged if\n",
        "your implementation does not match!"
      ],
      "metadata": {
        "id": "19cbi4nnPiSt"
      }
    },
    {
      "cell_type": "code",
      "source": [
        "import numpy as np\n",
        "from numpy.random import default_rng\n",
        "rng = default_rng()  # random number generator\n",
        "\n",
        "\n",
        "def train_test_split(X, y, nfolds=5):\n",
        "  \"\"\"\n",
        "    Functionality:\n",
        "      Splits the training data :param X: and :param y: into a training set\n",
        "      (X_train and y_train) and a test set (X_test and y_test).  \n",
        "      The number of items in the sets is determined by the :param folds:,\n",
        "      i.e. N/folds samples go in the test set while the rest shall \n",
        "      be put in the train set.  \n",
        "\n",
        "\n",
        "    Params:\n",
        "      :param X: sampleset of shape (N, dim) (in our case (N,4))\n",
        "      :param y: label set of shape (N,)\n",
        "      :param folds: integer value\n",
        "    \n",
        "    \n",
        "    Usage:  \n",
        "      X_train, y_train, X_test, y_test = train_test_split(X, y, folds)\n",
        "  \"\"\"\n",
        "  assert isinstance(X, np.ndarray) and isinstance(y, np.ndarray)\n",
        "  \n",
        "  # determine how many samples comprise the train and test sets\n",
        "  N, _ = X.shape\n",
        "  samples_per_fold = int(N / nfolds)\n",
        "  all_indices = np.arange(N)  # indices from o to N\n",
        "\n",
        "  # create the different folds\n",
        "  folds = []\n",
        "  for i in range(nfolds):\n",
        "    # randomly draw :samples_per_fold: samples from the dataset\n",
        "    fold_indices = rng.choice(all_indices, size=(samples_per_fold), replace=False)\n",
        "    current_fold = (X[fold_indices], y[fold_indices])\n",
        "    folds.append(current_fold)\n",
        "\n",
        "    # since we do not want common elements among folds, we shall remove the\n",
        "    # drawn indices from the available ones before creating the next fold!\n",
        "    all_indices = list(set(all_indices) - set(fold_indices))\n",
        "\n",
        "  # once all the folds are built, 1 will be our test set while k-1 will be\n",
        "  # our training set\n",
        "  X_train, y_train = merge_folds(folds[:-1])\n",
        "  X_test, y_test = folds[-1]\n",
        "  return X_train, y_train, X_test, y_test\n",
        "\n",
        "# convert to numpy before execution\n",
        "Xnp, ynp = X.to_numpy(), y.to_numpy()\n",
        "\n",
        "# run the split!\n",
        "X_train, y_train, X_test, y_test = train_test_split(Xnp, ynp, nfolds=3)\n",
        "print(\"Items in the training set:\", X_train.shape, y_train.shape)\n",
        "print(\"Items in the test set:\", X_test.shape, y_test.shape)"
      ],
      "metadata": {
        "colab": {
          "base_uri": "https://localhost:8080/"
        },
        "id": "KFYHPut2MGoF",
        "outputId": "8d754be3-c039-4fde-ac93-eadb999cb493"
      },
      "execution_count": null,
      "outputs": [
        {
          "output_type": "stream",
          "name": "stdout",
          "text": [
            "Items in the training set: (100, 4) (100,)\n",
            "Items in the test set: (50, 4) (50,)\n"
          ]
        }
      ]
    },
    {
      "cell_type": "markdown",
      "source": [
        "### Implementation Notes\n",
        "In this implementation, the absence of deterministic behaviour is guaranteed by the presence of a random function, i.e. *np.random.choice*. This could've been guaranteed also with different random functions, such as *np.random.permutation*. Key Insight: instead of generating random indices, you could've used fixed indices while randomly permuting the dataset!\n",
        "\n",
        "**Takeaway**: it is seldom the case a unique implementation exists. Your job is to come up with a solution that balances ease of comprehension, efficacy and effectiveness, while satisfying all the requirements."
      ],
      "metadata": {
        "id": "ub8XD3ARUQGX"
      }
    },
    {
      "cell_type": "markdown",
      "source": [
        "## Data Visualization\n",
        "A useful practice for ML practitioners is to inspect the data, especially in terms of **class distributions**. The following code cell print information about the class distribution, as well as arranging train and test sets in pie charts for better visual representation."
      ],
      "metadata": {
        "id": "VyuNKWmrQr3G"
      }
    },
    {
      "cell_type": "code",
      "source": [
        "def dataset_summary(y_train,\n",
        "                    y_test, \n",
        "                    num_classes=3, \n",
        "                    class_names=None,\n",
        "                    show=False):\n",
        "  \"\"\"\n",
        "    Functionality:\n",
        "    Prints information about the class distribution in both \n",
        "    the training and the test sets. Optionally, it also visually displays such\n",
        "    distributions in a Pie Chart.\n",
        "\n",
        "    Params:\n",
        "    :param y_train: 1D array with the labels of the training samples;\n",
        "    :param y_test: 1D array with the labels of the test samples;\n",
        "    :param num_classes: (Optional) total number of classes expected to be in \n",
        "    the dataset. Default: 3;\n",
        "    :param class_names: (Optional) string mappings for the classes. Default: list\n",
        "    of class indices;\n",
        "    :param show: (Optional) if set to True, the Pie Charts are displayed. \n",
        "    Default: False.\n",
        "  \"\"\"\n",
        "  print_separator(\"DATASET SUMMARY\")\n",
        "  \n",
        "  # grab the number of samples for both train and test sets\n",
        "  train_samples = y_train.shape[0]\n",
        "  test_samples = y_test.shape[0]\n",
        "\n",
        "  # divide samples based on their class label\n",
        "  train_sizes, test_sizes = [], []\n",
        "  for cls_label in range(num_classes): \n",
        "      cls_train_samples = np.sum(np.where(y_train==cls_label, 1, 0))\n",
        "      cls_test_samples = np.sum(np.where(y_test==cls_label, 1, 0)) \n",
        "      train_sizes.append(cls_train_samples)\n",
        "      test_sizes.append(cls_test_samples)\n",
        "      print(f\"[TRAIN]: {cls_train_samples} samples of class {cls_label} ({cls_train_samples/train_samples*100:.2f}%)\")\n",
        "      print(f\"[TEST]: {cls_test_samples} samples of class {cls_label} ({cls_test_samples/test_samples*100:.2f}%)\\n\")\n",
        "\n",
        "  if not show: return\n",
        "  \n",
        "  if class_names is None:\n",
        "    class_names = [f\"Class {i}\" for i in range(num_classes)]\n",
        "\n",
        "  # create a figure and split it vertically\n",
        "  plt.figure(figsize=(12,12))\n",
        "  plt.subplot(1,2,1)\n",
        "\n",
        "  # populate left subplot with training data\n",
        "  plt.title(\"[Train] Class Distribution\")\n",
        "  plt.pie(train_sizes, labels=iris_object.target_names, autopct='%1.1f%%')\n",
        "\n",
        "  # populate right subplot with test data\n",
        "  plt.subplot(1,2,2)\n",
        "  plt.title(\"[Test] Class Distribution\")\n",
        "  plt.pie(test_sizes, labels=iris_object.target_names, autopct='%1.2f%%')\n",
        "\n",
        "dataset_summary(y_train, y_test, show=True, class_names=iris_object.target_names)"
      ],
      "metadata": {
        "colab": {
          "base_uri": "https://localhost:8080/",
          "height": 552
        },
        "id": "H6YnFrrsUTOI",
        "outputId": "d0d905bc-dcc9-464f-ef03-821d3c1fa9da"
      },
      "execution_count": null,
      "outputs": [
        {
          "output_type": "stream",
          "name": "stdout",
          "text": [
            "\n",
            " ========================= DATASET SUMMARY =========================\n",
            "[TRAIN]: 30 samples of class 0 (30.00%)\n",
            "[TEST]: 20 samples of class 0 (40.00%)\n",
            "\n",
            "[TRAIN]: 34 samples of class 1 (34.00%)\n",
            "[TEST]: 16 samples of class 1 (32.00%)\n",
            "\n",
            "[TRAIN]: 36 samples of class 2 (36.00%)\n",
            "[TEST]: 14 samples of class 2 (28.00%)\n",
            "\n"
          ]
        },
        {
          "output_type": "display_data",
          "data": {
            "text/plain": [
              "<Figure size 864x864 with 2 Axes>"
            ],
            "image/png": "[encoded data removed]"
          },
          "metadata": {}
        }
      ]
    },
    {
      "cell_type": "markdown",
      "source": [
        "##Training a Linear Classifier\n",
        "\n",
        "We will now see how to train a Linear Classifier on the training set, while evaluating it on the provided test set.\n",
        "\n",
        "In this lab we do not focus on the implementation of the classifier, so think of it as a black box, that given $X \\in \\mathbb{R}^{N_{train} \\times 4}$ and $y \\in \\mathbb{R}^{N_{train}}$, provides with with a parameter estimate $\\hat{w}$."
      ],
      "metadata": {
        "id": "JjPIrbOonswV"
      }
    },
    {
      "cell_type": "code",
      "source": [
        "# import a logistic regression classifier with SGD and instantiate it\n",
        "from sklearn.linear_model import LogisticRegression\n",
        "clf = LogisticRegression(penalty=\"l2\", multi_class=\"ovr\", max_iter=100)\n",
        "\n",
        "# estimate the parameters on the training set\n",
        "clf.fit(X_train, y_train)\n",
        "\n",
        "# predict the outcome of the test samples\n",
        "y_pred = clf.predict(X_test)\n",
        "\n",
        "# display the predicted class for each sample in the test set\n",
        "for i, prediction in enumerate(y_pred[:10]):\n",
        "  print(f\"Prediction for sample {i+1} = {iris_object.target_names[prediction]}\")"
      ],
      "metadata": {
        "id": "wz0o77qgW-BX",
        "colab": {
          "base_uri": "https://localhost:8080/"
        },
        "outputId": "903307a4-7387-4b70-9513-b3432eddcfb0"
      },
      "execution_count": null,
      "outputs": [
        {
          "output_type": "stream",
          "name": "stdout",
          "text": [
            "Prediction for sample 1 = virginica\n",
            "Prediction for sample 2 = virginica\n",
            "Prediction for sample 3 = setosa\n",
            "Prediction for sample 4 = virginica\n",
            "Prediction for sample 5 = virginica\n",
            "Prediction for sample 6 = setosa\n",
            "Prediction for sample 7 = versicolor\n",
            "Prediction for sample 8 = versicolor\n",
            "Prediction for sample 9 = virginica\n",
            "Prediction for sample 10 = virginica\n"
          ]
        }
      ]
    },
    {
      "cell_type": "code",
      "source": [
        "def scatter_classification(X, y, y_pred, \n",
        "                           chosen_feats=[0,1],\n",
        "                           axes_labels=[\"Sepal Length\", \"Sepal Width\"]):\n",
        "  plt.figure(figsize=(16,8))\n",
        "\n",
        "  X = X[:, chosen_feats]\n",
        "  num_classes = len(list(set(y)))\n",
        "  colors = [\"tab:blue\", \"tab:orange\", \"tab:green\"]\n",
        "  labels = [\"setosa\", \"versicolor\", \"virginica\"]\n",
        "  for cls in range(num_classes):\n",
        "    plt.subplot(1,2,1)\n",
        "    cls_indices = np.where(y == cls)[0]\n",
        "    cls_samples = X[cls_indices]\n",
        "    plt.scatter(x=cls_samples[:, 0], \n",
        "                y=cls_samples[:, 1],\n",
        "                color=colors[cls], label=labels[cls])\n",
        "    \n",
        "    plt.subplot(1,2,2)\n",
        "    cls_indices = np.where(y_pred == cls)[0]\n",
        "    cls_samples = X[cls_indices]\n",
        "    plt.scatter(x=cls_samples[:, 0], \n",
        "                y=cls_samples[:, 1],\n",
        "                color=colors[cls], label=labels[cls])\n",
        "  \n",
        "  plt.subplot(1,2,1)\n",
        "  plt.title(\"Groundtruth Classes\")\n",
        "  plt.xlabel(axes_labels[0])\n",
        "  plt.ylabel(axes_labels[1])\n",
        "  plt.legend()\n",
        "  plt.subplot(1,2,2)\n",
        "  plt.title(\"Predicted Classes\")\n",
        "  plt.xlabel(axes_labels[0])\n",
        "  plt.ylabel(axes_labels[1])\n",
        "  plt.legend()\n",
        "\n",
        "# visualize classes based on sepal length and width\n",
        "y_train_pred = clf.predict(X_train)\n",
        "scatter_classification(X_test, y_test, y_pred)"
      ],
      "metadata": {
        "colab": {
          "base_uri": "https://localhost:8080/",
          "height": 513
        },
        "id": "Bvt_-22FBJR1",
        "outputId": "285dbcd7-1304-4ccd-c366-d927b4c63e8a"
      },
      "execution_count": null,
      "outputs": [
        {
          "output_type": "display_data",
          "data": {
            "text/plain": [
              "<Figure size 1152x576 with 2 Axes>"
            ],
            "image/png": "[encoded data removed]"
          },
          "metadata": {
            "needs_background": "light"
          }
        }
      ]
    },
    {
      "cell_type": "code",
      "source": [
        "# visualize classes based on petal length and width\n",
        "scatter_classification(X_test, y_test, y_pred,\n",
        "                       chosen_feats=[-2, -1],\n",
        "                       axes_labels=[\"Petal Length\", \"Petal Width\"])"
      ],
      "metadata": {
        "colab": {
          "base_uri": "https://localhost:8080/",
          "height": 513
        },
        "id": "_ZlqsP4zGZCe",
        "outputId": "856bc245-9979-44c6-ca26-4e98fb542d0c"
      },
      "execution_count": null,
      "outputs": [
        {
          "output_type": "display_data",
          "data": {
            "text/plain": [
              "<Figure size 1152x576 with 2 Axes>"
            ],
            "image/png": "[encoded data removed]"
          },
          "metadata": {
            "needs_background": "light"
          }
        }
      ]
    },
    {
      "cell_type": "markdown",
      "source": [
        "##Evaluation  \n",
        "We are now able to predict labels for *unseen* samples in the test set, but we are still missing something. Specifically, we are not **evaluating** our classifier!  \n",
        "\n",
        "In class, you have been presented the concepts of:  \n",
        "1. \\begin{equation}Accuracy = \\frac{\\text{# correctly classified samples}}{\\text{# total samples}}\\end{equation}\n",
        "\n",
        "2. \\begin{equation}Precision = \\text{# correctly classified samples } | \\text{ # samples classified as positive}\\end{equation}\n",
        "\n",
        "3. \\begin{equation}Recall = \\text{# correctly classified samples } | \\text{ # samples labelled as positive}\\end{equation}\n",
        "\n",
        "These concepts can be extracted starting from a confusion matrix, which, in the simplified scenario of Binary Classification (not our case!), is defined as:\n",
        "\n",
        "\\begin{equation}\n",
        "ConfusionMatrix = \\begin{bmatrix}\n",
        "                  TN & FP \\\\\n",
        "                  FN & TP \n",
        "                  \\end{bmatrix}\n",
        "\\end{equation}\n",
        "\n",
        "Notice that from a Binary Confusion Matrix we can directly extract the previous metrics as:  \n",
        "1. \\begin{equation}Accuracy = \\frac{TP+TN}{TP + FP + TN + FN}\\end{equation}\n",
        "\n",
        "2. \\begin{equation}Precision = \\frac{TP}{TP+FP}\\end{equation}\n",
        "\n",
        "3. \\begin{equation}Recall = \\frac{TP}{TP+FN}\\end{equation}"
      ],
      "metadata": {
        "id": "57pNZfsHyHBS"
      }
    },
    {
      "cell_type": "markdown",
      "source": [
        "## Exercise 2\n",
        "Define a function to build a Confusion Matrix for a $C$-class classification problem. The function should take as input a vector of groundtruth labels $y \\in \\mathbb{R}^{N_{test}}$ and a vector of predicted labels $\\hat{y} \\in \\mathbb{R}^{N_{test}}$ and return a confusion matrix $ConfMat \\in \\mathbb{R}^{C \\times C}$.\n",
        "\n",
        "Once the confusion matrix is available, also define three functions which take as input a confusion matrix and class index to return a real number: *accuracy*, *precision* and *recall*. The latter two metrics should be flexible, and must be class-dependent."
      ],
      "metadata": {
        "id": "s1sb7TkJ2uf-"
      }
    },
    {
      "cell_type": "code",
      "source": [
        "# HINT: you may want to start building the confusion matrix from an initial\n",
        "# matrix full of zeros. You can such a matrix with np.zeros.\n",
        "# Check it out here: https://numpy.org/doc/stable/reference/generated/numpy.zeros.html\n",
        "\n",
        "def confusion_matrix(y_gt, y_pred, num_classes=3):\n",
        "  \"\"\"\n",
        "    Builds a (num_classes x num_classes) confusion matrix for the evaluation of a \n",
        "    multiclass Classifier.\n",
        "\n",
        "    Params:\n",
        "      :param y_gt: vector of shape (N,) containing the groundtruth labels;\n",
        "      :param y_pred: vector of shape (N,) containing the classifier predictions.\n",
        "      :param num_classes: total number of classes in the dataset.\n",
        "\n",
        "    Returns:\n",
        "      :out confusion_matrix: CxC matrix\n",
        "  \"\"\"\n",
        "  # WRITE YOUR IMPLEMENTATION HERE\n",
        "  pass\n",
        "\n",
        "\n",
        "def accuracy(conf_mat):\n",
        "  \"\"\"\n",
        "    Computes the accuracy of a classifier starting from a Confusion Matrix.\n",
        "  \"\"\"\n",
        "  # WRITE YOUR IMPLEMENTATION HERE\n",
        "  pass\n",
        "\n",
        "\n",
        "def precision(conf_mat, class_idx=0):\n",
        "  \"\"\"\n",
        "    Computes the precision of the classifier with respect to :param class:\n",
        "    starting from a Confusion Matrix.\n",
        "  \"\"\"\n",
        "  # WRITE YOUR IMPLEMENTATION HERE\n",
        "  pass\n",
        "\n",
        "\n",
        "def recall(conf_mat, class_idx=0):\n",
        "  \"\"\"\n",
        "    Computes the recall of the classifier with respect to :param class: starting\n",
        "    from a Confusion Matrix.\n",
        "  \"\"\"\n",
        "  # WRITE YOUR IMPLEMENTATION HERE\n",
        "  pass"
      ],
      "metadata": {
        "id": "nr449_OO6vRj"
      },
      "execution_count": null,
      "outputs": []
    },
    {
      "cell_type": "markdown",
      "source": [
        "## Exercise 2, Proposed Solution"
      ],
      "metadata": {
        "id": "Ifk8rMh37WT4"
      }
    },
    {
      "cell_type": "code",
      "source": [
        "def confusion_matrix(y_gt, y_pred, num_classes=3):\n",
        "  \"\"\"\n",
        "    Builds a (num_classes x num_classes) confusion matrix for the evaluation of \n",
        "    a multiclass Classifier.\n",
        "\n",
        "    Params:\n",
        "      :param y_gt: vector of shape (N,) containing the groundtruth labels;\n",
        "      :param y_pred: vector of shape (N,) containing the classifier predictions;\n",
        "      :param num_classes: total number of classes in the dataset.\n",
        "\n",
        "    Returns:\n",
        "      :out confusion_matrix: CxC matrix\n",
        "  \"\"\"\n",
        "  # initialize a CxC confusion matrix filled with zeros\n",
        "  conf_mat = np.zeros(shape=(num_classes, num_classes))\n",
        "\n",
        "  for gt, pred in zip(y_gt, y_pred):\n",
        "    # the gt is the row index\n",
        "    # the pred is the col index\n",
        "    conf_mat[gt, pred] += 1\n",
        "  \n",
        "  return conf_mat\n",
        "\n",
        "\n",
        "def accuracy(conf_mat):\n",
        "  \"\"\"\n",
        "    Computes the accuracy of a classifier starting from a Confusion Matrix.\n",
        "  \"\"\"\n",
        "  # number of correctly classified samples is the trace of the matrix\n",
        "  # (i.e. sum of the elements along the main diagonal)\n",
        "  correct_samples = np.trace(conf_mat)\n",
        "\n",
        "  # total number of samples is the sum of the entries of the matrix\n",
        "  tot_samples = np.sum(conf_mat)\n",
        "\n",
        "  return correct_samples / tot_samples\n",
        "\n",
        "\n",
        "def precision(conf_mat, class_idx=0):\n",
        "  \"\"\"\n",
        "    Computes the precision of the classifier with respect to :param class:\n",
        "    starting from a Confusion Matrix.\n",
        "  \"\"\"\n",
        "\n",
        "  # number of correctly classified samples are the ones at C[class_idx, class_idx]\n",
        "  correct_samples = conf_mat[class_idx, class_idx]\n",
        "\n",
        "  # number of samples classified as the focus class is the sum along the \n",
        "  # :param class_idx: column\n",
        "  samples_classified_as_class = np.sum(conf_mat[:, class_idx])\n",
        "\n",
        "  return correct_samples / (samples_classified_as_class + np.finfo(float).eps)\n",
        "\n",
        "\n",
        "def recall(conf_mat, class_idx=0):\n",
        "  \"\"\"\n",
        "    Computes the recall of the classifier with respect to :param class: starting\n",
        "    from a Confusion Matrix.\n",
        "  \"\"\"\n",
        "\n",
        "  # number of correctly classified samples are the ones at C[class_idx, class_idx]\n",
        "  correct_samples = conf_mat[class_idx, class_idx] \n",
        "\n",
        "  # total samples labelled as the focus class is the sum along the \n",
        "  # :param class_idx: row\n",
        "  samples_labelled_as_class = np.sum(conf_mat[class_idx, :])\n",
        "\n",
        "  return correct_samples / (samples_labelled_as_class + np.finfo(float).eps)"
      ],
      "metadata": {
        "id": "AaylRpgj8kHC"
      },
      "execution_count": null,
      "outputs": []
    },
    {
      "cell_type": "markdown",
      "source": [
        "## Results Visualization\n",
        "\n",
        "Common practice among Machine Learning practitioners is to also **visualize the obtained results**. It is difficult to grasp concepts from a purely textual representation. For instance, execute the code cell below and have a look at its output.\n",
        "\n",
        "(NOTE: The actual code is not relevant for today's purposes.)"
      ],
      "metadata": {
        "id": "Hhtg8lRfZIX4"
      }
    },
    {
      "cell_type": "code",
      "source": [
        "def evaluation_summary(y, y_pred, num_classes=3, show=False, class_names=iris_object.target_names):\n",
        "  print_separator(\"EVALUATION SUMMARY\")\n",
        "  \n",
        "  # evaluate the previously trained classifier\n",
        "  conf_mat = confusion_matrix(y_test, y_pred)\n",
        "  acc = accuracy(conf_mat)\n",
        "  print(f\"Accuracy of the classifier = {acc*100:.2f}%\\n\")\n",
        "\n",
        "  # evaluate precision and recall w.r.t. the different classes\n",
        "  precisions, recalls = [], []\n",
        "  for cls in range(num_classes):\n",
        "    cls_precision = precision(conf_mat, class_idx=cls)\n",
        "    cls_recall = recall(conf_mat, class_idx=cls)\n",
        "    precisions.append(cls_precision)\n",
        "    recalls.append(cls_recall)\n",
        "    print(f\"When {class_names[cls]} is predicted, classifier is correct {cls_precision*100:.2f}% of the times\")\n",
        "    print(f\"When facing {class_names[cls]} samples, classifier is correct {cls_recall*100:.2f}% of the times\\n\")\n",
        "  \n",
        "  if not show: return\n",
        "\n",
        "  if class_names is None:\n",
        "    class_names = [f\"Class {cls}\" for cls in range(num_classes)]\n",
        "\n",
        "  # display precision and recall by vertical bars for each class\n",
        "  fig, axes_tuple = plt.subplots(nrows=1, ncols=num_classes, sharey=True, figsize=(9,6))\n",
        "  for cls in range(num_classes):\n",
        "    ax = axes_tuple[cls]\n",
        "    ax.set_title(iris_object.target_names[cls])\n",
        "    ax.bar(x=[0,1], height=[precisions[cls], recalls[cls]], color=[\"tab:orange\", \"tab:blue\"])\n",
        "    ax.set_xticks([0,1])\n",
        "    ax.set_xticklabels([\"precision\", \"recall\"])\n",
        "\n",
        "evaluation_summary(y_test, y_pred, show=False)"
      ],
      "metadata": {
        "colab": {
          "base_uri": "https://localhost:8080/"
        },
        "id": "lTsi0jn2ZZun",
        "outputId": "901741b4-c97f-44b1-c83a-c60b696a59a8"
      },
      "execution_count": null,
      "outputs": [
        {
          "output_type": "stream",
          "name": "stdout",
          "text": [
            "\n",
            " ========================= EVALUATION SUMMARY =========================\n",
            "Accuracy of the classifier = 88.00%\n",
            "\n",
            "When setosa is predicted, classifier is correct 100.00% of the times\n",
            "When facing setosa samples, classifier is correct 100.00% of the times\n",
            "\n",
            "When versicolor is predicted, classifier is correct 91.67% of the times\n",
            "When facing versicolor samples, classifier is correct 68.75% of the times\n",
            "\n",
            "When virginica is predicted, classifier is correct 72.22% of the times\n",
            "When facing virginica samples, classifier is correct 92.86% of the times\n",
            "\n"
          ]
        }
      ]
    },
    {
      "cell_type": "markdown",
      "source": [
        "The above has provided you with a textual representation of your evaluation, printing out the accuracy of your classifier, as well as the precision and recall conditioned on all the available classes. Even though these data are detailed, you have to focus on each printed line and try to remember what you read so far to have a clear picture.\n",
        "\n",
        "Instead, coming up with a visual representation incredibly enhances clarity!"
      ],
      "metadata": {
        "id": "WLswJ5R9Zrgk"
      }
    },
    {
      "cell_type": "code",
      "source": [
        "# run the same evaluation as before, but pass the flag show=True to \n",
        "# also visually display the performance of your classifier\n",
        "evaluation_summary(y_test, y_pred, show=True)"
      ],
      "metadata": {
        "colab": {
          "base_uri": "https://localhost:8080/",
          "height": 627
        },
        "id": "OiQCrrUtZ9Bk",
        "outputId": "0777d72b-401c-404b-a779-b664d4e29453"
      },
      "execution_count": null,
      "outputs": [
        {
          "output_type": "stream",
          "name": "stdout",
          "text": [
            "\n",
            " ========================= EVALUATION SUMMARY =========================\n",
            "Accuracy of the classifier = 88.00%\n",
            "\n",
            "When setosa is predicted, classifier is correct 100.00% of the times\n",
            "When facing setosa samples, classifier is correct 100.00% of the times\n",
            "\n",
            "When versicolor is predicted, classifier is correct 91.67% of the times\n",
            "When facing versicolor samples, classifier is correct 68.75% of the times\n",
            "\n",
            "When virginica is predicted, classifier is correct 72.22% of the times\n",
            "When facing virginica samples, classifier is correct 92.86% of the times\n",
            "\n"
          ]
        },
        {
          "output_type": "display_data",
          "data": {
            "text/plain": [
              "<Figure size 648x432 with 3 Axes>"
            ],
            "image/png": "[encoded data removed]"
          },
          "metadata": {
            "needs_background": "light"
          }
        }
      ]
    },
    {
      "cell_type": "markdown",
      "source": [
        "## Class Balance\n",
        "\n",
        "In the above, we saw that our classifier exhibits good performances. We also have prior knowledge on the dataset, as we know that it is composed of 33.3% $setosa$, 33.3% $versicolour$ and 33.3% $virginica$ samples.\n",
        "A question now arises: how would the classifier behave in the presence of imbalanced classes? Would it behave equally?\n",
        "\n",
        "The code cell below samples a training and a test set, then reduces one of the classes by a large amount by getting rid of its samples."
      ],
      "metadata": {
        "id": "nNdG88HAF33s"
      }
    },
    {
      "cell_type": "code",
      "source": [
        "def sample_unbalanced_dataset(*args, **kwargs):\n",
        "  assert \"reduce_cls\" in kwargs and \"reduction\" in kwargs \n",
        "  X_train, y_train, X_test, y_test = train_test_split(*args, kwargs[\"nfolds\"])\n",
        "\n",
        "  # reduce the training data\n",
        "  train_indices = np.where(y_train == kwargs[\"reduce_cls\"])[0]\n",
        "  remove_indices = rng.choice(train_indices, \n",
        "                              size=int(train_indices.shape[0]*kwargs[\"reduction\"]),\n",
        "                              replace=False)\n",
        "  X_train = np.delete(X_train, obj=remove_indices, axis=0)\n",
        "  y_train = np.delete(y_train, obj=remove_indices)\n",
        "\n",
        "  # reduce the test data\n",
        "  test_indices = np.where(y_test == kwargs[\"reduce_cls\"])[0]\n",
        "  remove_indices = rng.choice(test_indices, \n",
        "                              size=int(test_indices.shape[0]*kwargs[\"reduction\"]),\n",
        "                              replace=False)\n",
        "  X_test = np.delete(X_test, obj=remove_indices, axis=0)\n",
        "  y_test = np.delete(y_test, obj=remove_indices)\n",
        "\n",
        "  return X_train, y_train, X_test, y_test\n",
        "\n",
        "# parameters of the reduction\n",
        "class_to_reduce = \"versicolor\"     # you can play with this and substitute it\n",
        "reduction = 0.5                    # the greater this value, the less samples will remain\n",
        "\n",
        "# perform the reduction\n",
        "reduce_cls = list(iris_object.target_names).index(class_to_reduce)\n",
        "X_train, y_train, X_test, y_test = sample_unbalanced_dataset(Xnp, ynp, \n",
        "                                                             nfolds=2, \n",
        "                                                             reduce_cls=reduce_cls, \n",
        "                                                             reduction=reduction)\n",
        "dataset_summary(y_train, y_test, show=True)"
      ],
      "metadata": {
        "colab": {
          "base_uri": "https://localhost:8080/",
          "height": 552
        },
        "id": "iWdf9XKKGbim",
        "outputId": "0bac046d-5f52-490b-eb8a-54856cd3b433"
      },
      "execution_count": null,
      "outputs": [
        {
          "output_type": "stream",
          "name": "stdout",
          "text": [
            "\n",
            " ========================= DATASET SUMMARY =========================\n",
            "[TRAIN]: 28 samples of class 0 (43.08%)\n",
            "[TEST]: 22 samples of class 0 (36.07%)\n",
            "\n",
            "[TRAIN]: 11 samples of class 1 (16.92%)\n",
            "[TEST]: 15 samples of class 1 (24.59%)\n",
            "\n",
            "[TRAIN]: 26 samples of class 2 (40.00%)\n",
            "[TEST]: 24 samples of class 2 (39.34%)\n",
            "\n"
          ]
        },
        {
          "output_type": "display_data",
          "data": {
            "text/plain": [
              "<Figure size 864x864 with 2 Axes>"
            ],
            "image/png": "[encoded data removed]"
          },
          "metadata": {}
        }
      ]
    },
    {
      "cell_type": "code",
      "source": [
        "# now let's retrain the classifier and see if the performances remain unchanged\n",
        "clf.fit(X_train, y_train)\n",
        "\n",
        "# predict the outcome of the test samples\n",
        "y_pred = clf.predict(X_test)\n",
        "evaluation_summary(y_test, y_pred, show=True)"
      ],
      "metadata": {
        "colab": {
          "base_uri": "https://localhost:8080/",
          "height": 627
        },
        "id": "I4K1usXpTFbn",
        "outputId": "7e9cfb1d-e1ad-4335-fe05-089a291177e8"
      },
      "execution_count": null,
      "outputs": [
        {
          "output_type": "stream",
          "name": "stdout",
          "text": [
            "\n",
            " ========================= EVALUATION SUMMARY =========================\n",
            "Accuracy of the classifier = 81.97%\n",
            "\n",
            "When setosa is predicted, classifier is correct 100.00% of the times\n",
            "When facing setosa samples, classifier is correct 100.00% of the times\n",
            "\n",
            "When versicolor is predicted, classifier is correct 100.00% of the times\n",
            "When facing versicolor samples, classifier is correct 26.67% of the times\n",
            "\n",
            "When virginica is predicted, classifier is correct 68.57% of the times\n",
            "When facing virginica samples, classifier is correct 100.00% of the times\n",
            "\n"
          ]
        },
        {
          "output_type": "display_data",
          "data": {
            "text/plain": [
              "<Figure size 648x432 with 3 Axes>"
            ],
            "image/png": "[encoded data removed]"
          },
          "metadata": {
            "needs_background": "light"
          }
        }
      ]
    },
    {
      "cell_type": "markdown",
      "source": [
        "## K-Fold Validation\n",
        "When working with a dataset, it is difficult to assess the quality of the classifier you have designed. Additionally, as you have seen above, classifiers are very dependent on the data they are provided. For these reasons, a common practice is to employ **K-Fold Validation**.\n",
        "\n",
        "In this setting, the dataset is divided into $K$ equal partitions (i.e. the *folds*), and exactly $K$ repetitions of the train-and-test paradigm are run.\n",
        "In each repetition, one fold is left out as the test set, while the other $K-1$ folds are aggregated to build the training set.\n",
        "\n",
        "As a consequence, we obtain $K$ different values for the accuracy, the precision and the recall of the model, which depend on the specific partition they are trained on. Aggregating these results (i.e. averaging them) provide us with a good estimate of our classifier choice."
      ],
      "metadata": {
        "id": "vxGHzaTdtO7t"
      }
    },
    {
      "cell_type": "markdown",
      "source": [
        "# Assignment for the next lab\n",
        "Implement K-Fold Validation, by leveraging the functions for dataset management, logistic regression fitting and performance evaluation that we have seen in this lab. \n",
        "\n",
        "Additionally, you may also use the following functions:\n",
        "- the first takes as input the IRIS dataset and a value for $K$, returning the $K$ folds as tuples within a list;\n",
        "- the second computes the average precision and recall on all classes, given a classification outcome and the respective labels."
      ],
      "metadata": {
        "id": "Ci_kVrwey82Y"
      }
    },
    {
      "cell_type": "code",
      "source": [
        "# please note this code snippet was already part of the \"train_test_split\" fn\n",
        "\n",
        "def make_folds(X, y, k=5):\n",
        "  \"\"\"\n",
        "    Functionality:  \n",
        "    \n",
        "    splits the dataset set (X,y) into k folds, returning them within a list of\n",
        "    tuples as [(X_fold1, y_fold1), ... , (X_foldk, y_foldk)].\n",
        "\n",
        "    Params:  \n",
        "    :param X: samples in the dataset. Array of shape (N, dim), where N is the\n",
        "    total number of samples and dim is the dimensionality of the input feature\n",
        "    space;  \n",
        "    :param y: labels in the dataset. Array of shape (N), where the i-th entry\n",
        "    corresponds to the label of the i-th sample in X (i.e. the i-th row of X);  \n",
        "    :param k: the number of folds to be computed. For simplicity, it must be \n",
        "    a divider of N.\n",
        "\n",
        "    Usage:  \n",
        "    X = # input samples\n",
        "    y = # input labels\n",
        "    k = # desider number of folds\n",
        "    folds = make_folds(X, y, k=k)\n",
        "  \"\"\"\n",
        "\n",
        "  N, dim = X.shape\n",
        "  assert N % k == 0, \"Make sure k is a divider of N!\"\n",
        "\n",
        "  # determine how many samples comprise the train and test sets\n",
        "  N, _ = X.shape\n",
        "  samples_per_fold = int(N / k)\n",
        "  all_indices = np.arange(N)\n",
        "\n",
        "  # create the different folds\n",
        "  folds = []\n",
        "  for i in range(k):\n",
        "    # randomly draw :samples_per_fold: samples from the dataset\n",
        "    fold_indices = rng.choice(all_indices, size=(samples_per_fold), replace=False)\n",
        "    current_fold = (X[fold_indices], y[fold_indices])\n",
        "    folds.append(current_fold)\n",
        "\n",
        "    # since we do not want common elements among folds, we shall remove the\n",
        "    # drawn indices from the available ones before creating the next fold!\n",
        "    all_indices = list(set(all_indices) - set(fold_indices))\n",
        "  \n",
        "  return folds"
      ],
      "metadata": {
        "id": "9HzkmHmDzs-0"
      },
      "execution_count": null,
      "outputs": []
    },
    {
      "cell_type": "code",
      "source": [
        "def mean_precision_and_recall(conf_mat, num_classes=3):\n",
        "  precisions = [precision(conf_mat, class_idx=cls) for cls in range(num_classes)]\n",
        "  recalls = [recall(conf_mat, class_idx=cls) for cls in range(num_classes)]\n",
        "  return sum(precisions) / len(precisions), sum(recalls) / len(recalls)"
      ],
      "metadata": {
        "id": "f5XshrzD3ScK"
      },
      "execution_count": null,
      "outputs": []
    },
    {
      "cell_type": "code",
      "source": [
        "def kfold_validation(X, y, k=5):\n",
        "  ### WRITE YOUR IMPLEMENTATION HERE, FOLLOWING THE COMMENTS\n",
        "  \n",
        "  # instantiate the classifier\n",
        "  clf = LogisticRegression(penalty=\"l2\", multi_class=\"ovr\", max_iter=100)\n",
        "  \n",
        "  # use the following variables to store accuracies, precisions and recalls\n",
        "  accs, precs, recs = [], [], []\n",
        "\n",
        "  # divide the dataset in folds\n",
        "\n",
        "\n",
        "  # start looping k times. At each iteration, leave the i-th fold as test set\n",
        "  # and aggregate the other ones as train set. You may use the 'merge_folds'\n",
        "  # function introduced during the lab. \n",
        "  for i in range(k):\n",
        "    # grab the test fold\n",
        "\n",
        "    # aggregate all other folds in the train set\n",
        "\n",
        "    # train, evaluate and store metrics for the current configuration\n",
        "    pass\n",
        "\n",
        "\n",
        "  # once all the k folds have been used for evaluation, average results and \n",
        "  # print them\n",
        "  avg_acc = 0       # modify this line\n",
        "  avg_prec = 0      # modify this line\n",
        "  avg_rec = 0       # modify this line\n",
        "  print_separator(f\"{k}-fold Validation Results\")\n",
        "  print(f\"Average Accuracy = {avg_acc:.2f}\")\n",
        "  print(f\"Average Precision = {avg_prec:.2f}\")\n",
        "  print(f\"Average Recall = {avg_rec:.2f}\")"
      ],
      "metadata": {
        "id": "MbgRt7kQ6xRn"
      },
      "execution_count": null,
      "outputs": []
    },
    {
      "cell_type": "markdown",
      "source": [
        "## Assignment: one of many possible solutions"
      ],
      "metadata": {
        "id": "A4ughhcQ7RR0"
      }
    },
    {
      "cell_type": "code",
      "source": [
        "def kfold_validation(X, y, k=5): \n",
        "  # instantiate the classifier\n",
        "  clf = LogisticRegression(penalty=\"l2\", multi_class=\"ovr\", max_iter=100)\n",
        "  \n",
        "  # use the following variables to store accuracies, precisions and recalls\n",
        "  accs, precs, recs = [], [], []\n",
        "\n",
        "  # divide the dataset in folds\n",
        "  folds = make_folds(X, y, k)\n",
        "\n",
        "  # start looping k times. At each iteration, leave the i-th fold as test set\n",
        "  # and aggregate the other ones as train set. You may use the 'merge_folds'\n",
        "  # function introduced during the lab. \n",
        "  for i in range(k):\n",
        "    # grab the test fold\n",
        "    X_test, y_test = folds[i]\n",
        "\n",
        "    # aggregate all other folds in the train set\n",
        "    folds_for_train = [fold for j, fold in enumerate(folds) if i!=j]\n",
        "    X_train, y_train = merge_folds(folds_for_train)\n",
        "\n",
        "    # train\n",
        "    clf.fit(X_train, y_train)\n",
        "\n",
        "    # and evaluate\n",
        "    y_pred = clf.predict(X_test)\n",
        "    conf_mat = confusion_matrix(y_pred, y_test)\n",
        "    \n",
        "    # store metrics for the current configuration\n",
        "    acc = accuracy(conf_mat); accs.append(acc)\n",
        "    prec, rec = mean_precision_and_recall(conf_mat)\n",
        "    precs.append(prec); recs.append(rec)\n",
        "\n",
        "  # once all the k folds have been used for evaluation, averaged results and \n",
        "  # print them\n",
        "  avg_acc = sum(accs) / len(accs)\n",
        "  avg_prec = sum(precs) / len(precs)\n",
        "  avg_rec = sum(recs) / len(recs)\n",
        "\n",
        "  print_separator(f\"{k}-fold Validation Results\")\n",
        "  print(f\"Average Accuracy = {avg_acc:.2f}\")\n",
        "  print(f\"Average Precision = {avg_prec:.2f}\")\n",
        "  print(f\"Average Recall = {avg_rec:.2f}\")\n",
        "\n",
        "kfold_validation(Xnp, ynp, k=5)"
      ],
      "metadata": {
        "colab": {
          "base_uri": "https://localhost:8080/"
        },
        "id": "mL_ChCbO1pk_",
        "outputId": "8710aa0c-b6aa-41de-a9c8-001ab2ed0751"
      },
      "execution_count": null,
      "outputs": [
        {
          "output_type": "stream",
          "name": "stdout",
          "text": [
            "\n",
            " ========================= 5-fold Validation Results =========================\n",
            "Average Accuracy = 0.95\n",
            "Average Precision = 0.95\n",
            "Average Recall = 0.96\n"
          ]
        }
      ]
    }
  ]
}